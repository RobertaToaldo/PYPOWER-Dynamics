{
  "nbformat": 4,
  "nbformat_minor": 0,
  "metadata": {
    "colab": {
      "provenance": [],
      "include_colab_link": true
    },
    "kernelspec": {
      "name": "python3",
      "display_name": "Python 3"
    },
    "language_info": {
      "name": "python"
    }
  },
  "cells": [
    {
      "cell_type": "markdown",
      "metadata": {
        "id": "view-in-github",
        "colab_type": "text"
      },
      "source": [
        "<a href=\"https://colab.research.google.com/github/RobertaToaldo/PYPOWER-Dynamics/blob/master/paulo_valente.ipynb\" target=\"_parent\"><img src=\"https://colab.research.google.com/assets/colab-badge.svg\" alt=\"Open In Colab\"/></a>"
      ]
    },
    {
      "cell_type": "code",
      "execution_count": 1,
      "metadata": {
        "colab": {
          "base_uri": "https://localhost:8080/"
        },
        "id": "WYlWuRqp_B_2",
        "outputId": "f5ad09be-f1e3-48e7-8b62-94515134513c"
      },
      "outputs": [
        {
          "output_type": "stream",
          "name": "stdout",
          "text": [
            "Looking in indexes: https://pypi.org/simple, https://us-python.pkg.dev/colab-wheels/public/simple/\n",
            "Collecting openturns\n",
            "  Downloading openturns-1.20.post3-cp310-cp310-manylinux2014_x86_64.manylinux_2_17_x86_64.whl (58.0 MB)\n",
            "\u001b[2K     \u001b[90m━━━━━━━━━━━━━━━━━━━━━━━━━━━━━━━━━━━━━━━━\u001b[0m \u001b[32m58.0/58.0 MB\u001b[0m \u001b[31m11.7 MB/s\u001b[0m eta \u001b[36m0:00:00\u001b[0m\n",
            "\u001b[?25hCollecting dill (from openturns)\n",
            "  Downloading dill-0.3.6-py3-none-any.whl (110 kB)\n",
            "\u001b[2K     \u001b[90m━━━━━━━━━━━━━━━━━━━━━━━━━━━━━━━━━━━━━━\u001b[0m \u001b[32m110.5/110.5 kB\u001b[0m \u001b[31m10.4 MB/s\u001b[0m eta \u001b[36m0:00:00\u001b[0m\n",
            "\u001b[?25hRequirement already satisfied: psutil in /usr/local/lib/python3.10/dist-packages (from openturns) (5.9.5)\n",
            "Installing collected packages: dill, openturns\n",
            "Successfully installed dill-0.3.6 openturns-1.20.post3\n"
          ]
        }
      ],
      "source": [
        "pip install openturns"
      ]
    },
    {
      "cell_type": "code",
      "source": [
        "from __future__ import print_function\n",
        "import openturns as ot\n",
        "ot.Log.Show(ot.Log.NONE)"
      ],
      "metadata": {
        "id": "aWedA8Ng_ZIe"
      },
      "execution_count": 2,
      "outputs": []
    },
    {
      "cell_type": "code",
      "source": [
        "for algo in ot.Bonmin.GetAlgorithmNames():\n",
        "    print(algo)"
      ],
      "metadata": {
        "colab": {
          "base_uri": "https://localhost:8080/"
        },
        "id": "rsKj9rhc_c2q",
        "outputId": "1846b9c2-eb91-4d81-f3aa-49f7b662efab"
      },
      "execution_count": 3,
      "outputs": [
        {
          "output_type": "stream",
          "name": "stdout",
          "text": [
            "B-BB\n",
            "B-OA\n",
            "B-QG\n",
            "B-Hyb\n",
            "B-iFP\n"
          ]
        }
      ]
    },
    {
      "cell_type": "code",
      "source": [
        "'''\n",
        "\n",
        "# %%\n",
        "# Definition of objective function\n",
        "\n",
        "#EMBORCACAO\n",
        "\n",
        "c00=str(-0.5908)\n",
        "c10= str(-0.06124)\n",
        "c01= str(18.4)\n",
        "c20= str(0.0002574)\n",
        "c11= str(-0.1018)\n",
        "c02 = str(9.723)\n",
        "#---------------------\n",
        "## ITUMBIARA\n",
        "\n",
        "c00i=str(1.322)\n",
        "c10i= str(-0.04482)\n",
        "c01i= str(15)\n",
        "c20i= str(0.0003008)\n",
        "c11i= str(-0.1523)\n",
        "c02i= str(19.97)\n",
        "\n",
        "\n",
        "\n",
        "\n",
        "\n",
        "\n",
        "\n",
        "# str() transforma um número em string\n",
        "\n",
        "objectiveFunction = ot.SymbolicFunction (['n10','n11','n12','n13','n20','n21','n22','n23',\n",
        "                                          'p11','p12', 'p13','p21','p22','p23',\n",
        "                                          'z1','z2','z3',\n",
        "                                          'y11','y12','y13','y21','y22','y23'],\n",
        "                                         ['30*(' + c00 + '+p11*' + c10 + '+n11*' + c01 + ' +p11*p11*' + c20 + '+p11*n11*' + c11 + '+ n11*n11*' + c02 + \\\n",
        "                                             '+' + c00 + '+p12*' + c10 + '+n12*' + c01 + ' +p12*p12*' + c20 + '+p12*n12*' + c11 + '+ n12*n12*' + c02 +  \\\n",
        "                                             '+' + c00 + '+p13*' + c10 + '+n13*' + c01 + ' +p13*p13*' + c20 + '+p13*n13*' + c11 + '+ n13*n13*' + c02 +  \\\n",
        "                                             '+' + c00i + '+p21*'+ c10i +'+n21*' + c01i + '+p21*p21*' + c20i +'+p21*n21*' + c11i +'+ n21*n21*' + c02i + \\\n",
        "                                             '+' + c00i + '+p22*'+ c10i +'+n22*' + c01i + '+p22*p22*' + c20i +'+p22*n22*' + c11i +'+ n22*n22*' + c02i + \\\n",
        "                                            #'+' + c00i + '+p23*'+ c10i +'+n23*' + c01i + '+p23*p23*' + c20i +'+p23*n23*' + c11i +'+ n23*n23*' + c02i +\\\n",
        "                                           ')+3*( y11 + y12 + y13 + y21 + y22 + y23)'\n",
        "                                           ])\n",
        "\n",
        "objectiveFunction                                      \n"
      ],
      "metadata": {
        "colab": {
          "base_uri": "https://localhost:8080/",
          "height": 98
        },
        "id": "jWfE5SkSwQ--",
        "outputId": "628d10e1-47a4-44c3-8a6b-83a56fec6e91"
      },
      "execution_count": 5,
      "outputs": [
        {
          "output_type": "execute_result",
          "data": {
            "text/plain": [
              "class=SymbolicFunction name=Unnamed implementation=class=FunctionImplementation name=Unnamed description=[n10,n11,n12,n13,n20,n21,n22,n23,p11,p12,p13,p21,p22,p23,z1,z2,z3,y11,y12,y13,y21,y22,y23,y0] evaluationImplementation=class=SymbolicEvaluation name=Unnamed inputVariablesNames=[n10,n11,n12,n13,n20,n21,n22,n23,p11,p12,p13,p21,p22,p23,z1,z2,z3,y11,y12,y13,y21,y22,y23] outputVariablesNames=[y0] formulas=[30*(-0.5908+p11*-0.06124+n11*18.4 +p11*p11*0.0002574+p11*n11*-0.1018+ n11*n11*9.723+-0.5908+p12*-0.06124+n12*18.4 +p12*p12*0.0002574+p12*n12*-0.1018+ n12*n12*9.723+-0.5908+p13*-0.06124+n13*18.4 +p13*p13*0.0002574+p13*n13*-0.1018+ n13*n13*9.723+1.322+p21*-0.04482+n21*15+p21*p21*0.0003008+p21*n21*-0.1523+ n21*n21*19.97+1.322+p22*-0.04482+n22*15+p22*p22*0.0003008+p22*n22*-0.1523+ n22*n22*19.97)+3*( y11 + y12 + y13 + y21 + y22 + y23)] gradientImplementation=class=SymbolicGradient name=Unnamed evaluation=class=SymbolicEvaluation name=Unnamed inputVariablesNames=[n10,n11,n12,n13,n20,n21,n22,n23,p11,p12,p13,p21,p22,p23,z1,z2,z3,y11,y12,y13,y21,y22,y23] outputVariablesNames=[y0] formulas=[30*(-0.5908+p11*-0.06124+n11*18.4 +p11*p11*0.0002574+p11*n11*-0.1018+ n11*n11*9.723+-0.5908+p12*-0.06124+n12*18.4 +p12*p12*0.0002574+p12*n12*-0.1018+ n12*n12*9.723+-0.5908+p13*-0.06124+n13*18.4 +p13*p13*0.0002574+p13*n13*-0.1018+ n13*n13*9.723+1.322+p21*-0.04482+n21*15+p21*p21*0.0003008+p21*n21*-0.1523+ n21*n21*19.97+1.322+p22*-0.04482+n22*15+p22*p22*0.0003008+p22*n22*-0.1523+ n22*n22*19.97)+3*( y11 + y12 + y13 + y21 + y22 + y23)] hessianImplementation=class=SymbolicHessian name=Unnamed evaluation=class=SymbolicEvaluation name=Unnamed inputVariablesNames=[n10,n11,n12,n13,n20,n21,n22,n23,p11,p12,p13,p21,p22,p23,z1,z2,z3,y11,y12,y13,y21,y22,y23] outputVariablesNames=[y0] formulas=[30*(-0.5908+p11*-0.06124+n11*18.4 +p11*p11*0.0002574+p11*n11*-0.1018+ n11*n11*9.723+-0.5908+p12*-0.06124+n12*18.4 +p12*p12*0.0002574+p12*n12*-0.1018+ n12*n12*9.723+-0.5908+p13*-0.06124+n13*18.4 +p13*p13*0.0002574+p13*n13*-0.1018+ n13*n13*9.723+1.322+p21*-0.04482+n21*15+p21*p21*0.0003008+p21*n21*-0.1523+ n21*n21*19.97+1.322+p22*-0.04482+n22*15+p22*p22*0.0003008+p22*n22*-0.1523+ n22*n22*19.97)+3*( y11 + y12 + y13 + y21 + y22 + y23)]"
            ],
            "text/html": [
              "<p>[n10,n11,n12,n13,n20,n21,n22,n23,p11,p12,p13,p21,p22,p23,z1,z2,z3,y11,y12,y13,y21,y22,y23]#23->[30*(-0.5908+p11*-0.06124+n11*18.4 +p11*p11*0.0002574+p11*n11*-0.1018+ n11*n11*9.723+-0.5908+p12*-0.06124+n12*18.4 +p12*p12*0.0002574+p12*n12*-0.1018+ n12*n12*9.723+-0.5908+p13*-0.06124+n13*18.4 +p13*p13*0.0002574+p13*n13*-0.1018+ n13*n13*9.723+1.322+p21*-0.04482+n21*15+p21*p21*0.0003008+p21*n21*-0.1523+ n21*n21*19.97+1.322+p22*-0.04482+n22*15+p22*p22*0.0003008+p22*n22*-0.1523+ n22*n22*19.97)+3*( y11 + y12 + y13 + y21 + y22 + y23)]</p>"
            ]
          },
          "metadata": {},
          "execution_count": 5
        }
      ]
    },
    {
      "cell_type": "code",
      "source": [
        "# %%\n",
        "# Definition of objective function\n",
        "\n",
        "#EMBORCACAO\n",
        "\n",
        "c00=str(-0.5908)\n",
        "c10= str(-0.06124)\n",
        "c01= str(18.4)\n",
        "c20= str(0.0002574)\n",
        "c11= str(-0.1018)\n",
        "c02 = str(9.723)\n",
        "#---------------------\n",
        "## ITUMBIARA\n",
        "\n",
        "c00i=str(1.322)\n",
        "c10i= str(-0.04482)\n",
        "c01i= str(15)\n",
        "c20i= str(0.0003008)\n",
        "c11i= str(-0.1523)\n",
        "c02i= str(19.97)\n",
        "\n",
        "\n",
        "\n",
        "\n",
        "## Xingo FALTA OS DADOS \n",
        "\n",
        "\n",
        "# str() transforma um número em string\n",
        "\n",
        "objectiveFunction = ot.SymbolicFunction (['n10','n11','n12','n13','n20','n21','n22','n23','n30','n31','n32','n33',\n",
        "                                          'p11','p12', 'p13','p21','p22','p23','p31','p32','p33',\n",
        "                                          'z1','z2','z3',\n",
        "                                          'y11','y12','y13','y21','y22','y23','y31','y32','y33'],\n",
        "                                         ['30*(' + c00 + '+p11*' + c10 + '+n11*' + c01 + ' +p11*p11*' + c20 + '+p11*n11*' + c11 + '+ n11*n11*' + c02 + \\\n",
        "                                             '+' + c00 + '+p12*' + c10 + '+n12*' + c01 + ' +p12*p12*' + c20 + '+p12*n12*' + c11 + '+ n12*n12*' + c02 +  \\\n",
        "                                             '+' + c00 + '+p13*' + c10 + '+n13*' + c01 + ' +p13*p13*' + c20 + '+p13*n13*' + c11 + '+ n13*n13*' + c02 +  \\\n",
        "                                             '+' + c00i + '+p21*'+ c10i +'+n21*' + c01i + '+p21*p21*' + c20i +'+p21*n21*' + c11i +'+ n21*n21*' + c02i + \\\n",
        "                                             '+' + c00i + '+p22*'+ c10i +'+n22*' + c01i + '+p22*p22*' + c20i +'+p22*n22*' + c11i +'+ n22*n22*' + c02i + \\\n",
        "                                             '+' + c00i + '+p23*'+ c10i +'+n23*' + c01i + '+p23*p23*' + c20i +'+p23*n23*' + c11i +'+ n23*n23*' + c02i +\\\n",
        "                                           ') +1.2656* (' + c00 + '+p31*' + c10 + '+n31*' + c01 + ' +p31*p31*' + c20 + '+p31*n31*' + c11 + '+ n31*n31*' + c02 + \\\n",
        "                                             '+' + c00 + '+p32*' + c10 + '+n32*' + c01 + ' +p32*p32*' + c20 + '+p32*n32*' + c11 + '+ n32*n32*' + c02 +  \\\n",
        "                                             '+' + c00 + '+p33*' + c10 + '+n33*' + c01 + ' +p33*p33*' + c20 + '+p33*n33*' + c11 + '+ n33*n33*' + c02 +  \\\n",
        "                                           ') +3*( y11 + y12 + y13 + y21 + y22 + y23 + y31 + y32 + y33)'\n",
        "                                           ])\n",
        "\n",
        "objectiveFunction                                      \n"
      ],
      "metadata": {
        "colab": {
          "base_uri": "https://localhost:8080/",
          "height": 133
        },
        "id": "WptS_Sz8t-3v",
        "outputId": "caa9cfbb-e011-44aa-91f6-2f89fc54a98b"
      },
      "execution_count": 22,
      "outputs": [
        {
          "output_type": "execute_result",
          "data": {
            "text/plain": [
              "class=SymbolicFunction name=Unnamed implementation=class=FunctionImplementation name=Unnamed description=[n10,n11,n12,n13,n20,n21,n22,n23,n30,n31,n32,n33,p11,p12,p13,p21,p22,p23,p31,p32,p33,z1,z2,z3,y11,y12,y13,y21,y22,y23,y31,y32,y33,y0] evaluationImplementation=class=SymbolicEvaluation name=Unnamed inputVariablesNames=[n10,n11,n12,n13,n20,n21,n22,n23,n30,n31,n32,n33,p11,p12,p13,p21,p22,p23,p31,p32,p33,z1,z2,z3,y11,y12,y13,y21,y22,y23,y31,y32,y33] outputVariablesNames=[y0] formulas=[30*(-0.5908+p11*-0.06124+n11*18.4 +p11*p11*0.0002574+p11*n11*-0.1018+ n11*n11*9.723+-0.5908+p12*-0.06124+n12*18.4 +p12*p12*0.0002574+p12*n12*-0.1018+ n12*n12*9.723+-0.5908+p13*-0.06124+n13*18.4 +p13*p13*0.0002574+p13*n13*-0.1018+ n13*n13*9.723+1.322+p21*-0.04482+n21*15+p21*p21*0.0003008+p21*n21*-0.1523+ n21*n21*19.97+1.322+p22*-0.04482+n22*15+p22*p22*0.0003008+p22*n22*-0.1523+ n22*n22*19.97+1.322+p23*-0.04482+n23*15+p23*p23*0.0003008+p23*n23*-0.1523+ n23*n23*19.97) +1.2656* (-0.5908+p31*-0.06124+n31*18.4 +p31*p31*0.0002574+p31*n31*-0.1018+ n31*n31*9.723+-0.5908+p32*-0.06124+n32*18.4 +p32*p32*0.0002574+p32*n32*-0.1018+ n32*n32*9.723+-0.5908+p33*-0.06124+n33*18.4 +p33*p33*0.0002574+p33*n33*-0.1018+ n33*n33*9.723) +3*( y11 + y12 + y13 + y21 + y22 + y23 + y31 + y32 + y33)] gradientImplementation=class=SymbolicGradient name=Unnamed evaluation=class=SymbolicEvaluation name=Unnamed inputVariablesNames=[n10,n11,n12,n13,n20,n21,n22,n23,n30,n31,n32,n33,p11,p12,p13,p21,p22,p23,p31,p32,p33,z1,z2,z3,y11,y12,y13,y21,y22,y23,y31,y32,y33] outputVariablesNames=[y0] formulas=[30*(-0.5908+p11*-0.06124+n11*18.4 +p11*p11*0.0002574+p11*n11*-0.1018+ n11*n11*9.723+-0.5908+p12*-0.06124+n12*18.4 +p12*p12*0.0002574+p12*n12*-0.1018+ n12*n12*9.723+-0.5908+p13*-0.06124+n13*18.4 +p13*p13*0.0002574+p13*n13*-0.1018+ n13*n13*9.723+1.322+p21*-0.04482+n21*15+p21*p21*0.0003008+p21*n21*-0.1523+ n21*n21*19.97+1.322+p22*-0.04482+n22*15+p22*p22*0.0003008+p22*n22*-0.1523+ n22*n22*19.97+1.322+p23*-0.04482+n23*15+p23*p23*0.0003008+p23*n23*-0.1523+ n23*n23*19.97) +1.2656* (-0.5908+p31*-0.06124+n31*18.4 +p31*p31*0.0002574+p31*n31*-0.1018+ n31*n31*9.723+-0.5908+p32*-0.06124+n32*18.4 +p32*p32*0.0002574+p32*n32*-0.1018+ n32*n32*9.723+-0.5908+p33*-0.06124+n33*18.4 +p33*p33*0.0002574+p33*n33*-0.1018+ n33*n33*9.723) +3*( y11 + y12 + y13 + y21 + y22 + y23 + y31 + y32 + y33)] hessianImplementation=class=SymbolicHessian name=Unnamed evaluation=class=SymbolicEvaluation name=Unnamed inputVariablesNames=[n10,n11,n12,n13,n20,n21,n22,n23,n30,n31,n32,n33,p11,p12,p13,p21,p22,p23,p31,p32,p33,z1,z2,z3,y11,y12,y13,y21,y22,y23,y31,y32,y33] outputVariablesNames=[y0] formulas=[30*(-0.5908+p11*-0.06124+n11*18.4 +p11*p11*0.0002574+p11*n11*-0.1018+ n11*n11*9.723+-0.5908+p12*-0.06124+n12*18.4 +p12*p12*0.0002574+p12*n12*-0.1018+ n12*n12*9.723+-0.5908+p13*-0.06124+n13*18.4 +p13*p13*0.0002574+p13*n13*-0.1018+ n13*n13*9.723+1.322+p21*-0.04482+n21*15+p21*p21*0.0003008+p21*n21*-0.1523+ n21*n21*19.97+1.322+p22*-0.04482+n22*15+p22*p22*0.0003008+p22*n22*-0.1523+ n22*n22*19.97+1.322+p23*-0.04482+n23*15+p23*p23*0.0003008+p23*n23*-0.1523+ n23*n23*19.97) +1.2656* (-0.5908+p31*-0.06124+n31*18.4 +p31*p31*0.0002574+p31*n31*-0.1018+ n31*n31*9.723+-0.5908+p32*-0.06124+n32*18.4 +p32*p32*0.0002574+p32*n32*-0.1018+ n32*n32*9.723+-0.5908+p33*-0.06124+n33*18.4 +p33*p33*0.0002574+p33*n33*-0.1018+ n33*n33*9.723) +3*( y11 + y12 + y13 + y21 + y22 + y23 + y31 + y32 + y33)]"
            ],
            "text/html": [
              "<p>[n10,n11,n12,n13,n20,n21,n22,n23,n30,n31,n32,n33,p11,p12,p13,p21,p22,p23,p31,p32,p33,z1,z2,z3,y11,y12,y13,y21,y22,y23,y31,y32,y33]#33->[30*(-0.5908+p11*-0.06124+n11*18.4 +p11*p11*0.0002574+p11*n11*-0.1018+ n11*n11*9.723+-0.5908+p12*-0.06124+n12*18.4 +p12*p12*0.0002574+p12*n12*-0.1018+ n12*n12*9.723+-0.5908+p13*-0.06124+n13*18.4 +p13*p13*0.0002574+p13*n13*-0.1018+ n13*n13*9.723+1.322+p21*-0.04482+n21*15+p21*p21*0.0003008+p21*n21*-0.1523+ n21*n21*19.97+1.322+p22*-0.04482+n22*15+p22*p22*0.0003008+p22*n22*-0.1523+ n22*n22*19.97+1.322+p23*-0.04482+n23*15+p23*p23*0.0003008+p23*n23*-0.1523+ n23*n23*19.97) +1.2656* (-0.5908+p31*-0.06124+n31*18.4 +p31*p31*0.0002574+p31*n31*-0.1018+ n31*n31*9.723+-0.5908+p32*-0.06124+n32*18.4 +p32*p32*0.0002574+p32*n32*-0.1018+ n32*n32*9.723+-0.5908+p33*-0.06124+n33*18.4 +p33*p33*0.0002574+p33*n33*-0.1018+ n33*n33*9.723) +3*( y11 + y12 + y13 + y21 + y22 + y23 + y31 + y32 + y33)]</p>"
            ]
          },
          "metadata": {},
          "execution_count": 22
        }
      ]
    },
    {
      "cell_type": "code",
      "source": [
        "'''\n",
        "bounds = ot.Interval([\n",
        "                      0,0,0,0, \n",
        "                      0,0,0,0, \n",
        "                      104.98,104.98,104.98,\n",
        "                      177.80,177.80,177.80,\n",
        "                      0,0,0,0,0,0,0,0,0],\n",
        "                      [0,4,4,4,0,6,6,6,\n",
        "                       298,298,298,\n",
        "                       380,380,380,\n",
        "                       10e6,10e6,10e6,\n",
        "                       4,4,4,6,6,6],\n",
        "                     [True,True,True,True,\n",
        "                      True,True,True,True,\n",
        "                      True,True,True,\n",
        "                      True,True,True,\n",
        "                      True,True,True,True,True,True,True,True,True,],\n",
        "                     [True,True,True,True,\n",
        "                      True,True,True,True,\n",
        "                      True,True,True,\n",
        "                      True,True,True,\n",
        "                      False,False,False,True,True,True,True,True,True])\n",
        "\n",
        "#z= complementacao termica "
      ],
      "metadata": {
        "id": "ylyhU7QUA_Gg"
      },
      "execution_count": 6,
      "outputs": []
    },
    {
      "cell_type": "code",
      "source": [
        "bounds = ot.Interval([\n",
        "                      0,0,0,0, #n1t 4\n",
        "                      0,0,0,0, #n2t 4\n",
        "                      1,1,1,1, #n3t 4\n",
        "                      104.98,104.98,104.98, #p1t 3\n",
        "                      177.80,177.80,177.80,  #p2t 3\n",
        "                      250,250,250, #p3t 3\n",
        "                      0,0,0, #z 3\n",
        "                      0,0,0,0,0,0,0,0,0], \n",
        "                      [0,4,4,4, #n1t\n",
        "                       0,6,6,6, #n2t\n",
        "                       5,5,5,5, #n3t\n",
        "                       298,298,298, #p1t\n",
        "                       380,380,380,#p2t\n",
        "                       527,527,527,#p3t\n",
        "                       10e6,10e6,10e6, #z\n",
        "                       4,4,4,6,6,6,5,5,5],\n",
        "                     [True,True,True,True,\n",
        "                      True,True,True,True,\n",
        "                      True,True,True,True,\n",
        "                      True,True,True,\n",
        "                      True,True,True,\n",
        "                      True,True,True,\n",
        "                      True,True,True,\n",
        "                      True,True,True,True,True,True,True,True,True,],\n",
        "                     [True,True,True,True,\n",
        "                      True,True,True,True,\n",
        "                      True,True,True,True,\n",
        "                      True,True,True,\n",
        "                      True,True,True,\n",
        "                      True,True,True,\n",
        "                      False,False,False,\n",
        "                      True,True,True,True,True,True, True,True,True])\n",
        "\n",
        "#z= complementacao termica "
      ],
      "metadata": {
        "id": "hZQCRmDkBhJJ"
      },
      "execution_count": 23,
      "outputs": []
    },
    {
      "cell_type": "code",
      "source": [
        "'''\n",
        "\n",
        "d1=1973\n",
        "d2=1906\n",
        "d3=1785\n",
        "d4=1812\n",
        "d5=1766\n",
        "d6=1901\n",
        "d7=1980\n",
        "d8=2061\n",
        "d9=2120\n",
        "d10=2177\n",
        "d11=2087\n",
        "d12=2080\n",
        "\n",
        "\n",
        "#m1=str(7752)\n",
        "# m2=str(15896)\n",
        "\n",
        "m1=str(800)\n",
        "m2=str(1000)\n",
        "\n",
        "\n",
        "# vamos supor que n10=0 e n20=0\n",
        "\n",
        "equality_constraint = ot.SymbolicFunction(['n10',\n",
        "                          'n11','n12','n13',\n",
        "                          'n20',\n",
        "                          'n21','n22','n23',\n",
        "                          'p11','p12', 'p13','p21','p22','p23',\n",
        "                         'z1','z2','z3',\n",
        "                         'y11','y12','y13','y21','y22','y23'], \n",
        "                        ['p11 + p21 + z1 -' + str(d1),\n",
        "                         'p12 + p22 + z2 -' + str(d2),\n",
        "                         'p13 + p23 + z3 -' + str(d3),\n",
        "                         'p11 + p12 + p13-' + m1,\n",
        "                         'p21 + p22 + p23-' + m2 \n",
        "                         ])\n",
        "\n",
        "inequality_constraint = ot.SymbolicFunction(['n10',\n",
        "                                             'n11','n12','n13','n20',\n",
        "                                             'n21','n22','n23',\n",
        "                                             'p11','p12', 'p13','p21','p22','p23',\n",
        "                                             'z1','z2','z3',\n",
        "                                             'y11','y12','y13','y21','y22','y23'], \n",
        "                                            ['y11 - n11', \n",
        "                                             'y11 + n11', \n",
        "                                             'y12 - n12 + n11',\n",
        "                                             'y12 + n12 - n11', \n",
        "                                             'y13 - n13 + n12',\n",
        "                                             'y13 + n13 - n12',\n",
        "                                             'y21 - n21',\n",
        "                                             'y21 + n21',\n",
        "                                             'y22 - n22 + n21',\n",
        "                                             'y22 + n22 - n21',\n",
        "                                             'y23 - n23 + n22',\n",
        "                                             'y23 + n23 - n22'\n",
        "                                             ])"
      ],
      "metadata": {
        "id": "9jllPTlTxbdb"
      },
      "execution_count": 9,
      "outputs": []
    },
    {
      "cell_type": "code",
      "source": [
        "d1=1973\n",
        "d2=1906\n",
        "d3=1785\n",
        "d4=1812\n",
        "d5=1766\n",
        "d6=1901\n",
        "d7=1980\n",
        "d8=2061\n",
        "d9=2120\n",
        "d10=2177\n",
        "d11=2087\n",
        "d12=2080\n",
        "\n",
        "\n",
        "#m1=str(7752)\n",
        "# m2=str(15896)\n",
        "\n",
        "m1=str(800)\n",
        "m2=str(1000)\n",
        "m3=str(1500)\n",
        "\n",
        "# vamos supor que n10=0 e n20=0\n",
        "\n",
        "equality_constraint = ot.SymbolicFunction(['n10',\n",
        "                          'n11','n12','n13',\n",
        "                          'n20',\n",
        "                          'n21','n22','n23',\n",
        "                          'n30',\n",
        "                          'n31','n32','n33',\n",
        "                          'p11','p12', 'p13','p21','p22','p23','p31','p32','p33',\n",
        "                         'z1','z2','z3',\n",
        "                         'y11','y12','y13','y21','y22','y23','y31','y32','y33'], \n",
        "                        ['p11 + p21 + p31 + z1 -' + str(d1),\n",
        "                         'p12 + p22 + p32 + z2 -' + str(d2),\n",
        "                         'p13 + p23 + p33 + z3 -' + str(d3),\n",
        "                         'p11 + p12 + p13-' + m1,\n",
        "                         'p21 + p22 + p23-' + m2,\n",
        "                         'p31 + p32 + p33-' + m3 \n",
        "                         ])\n",
        "\n",
        "inequality_constraint = ot.SymbolicFunction(['n10', 'n11','n12','n13','n20',\n",
        "                                             'n21','n22','n23', 'n30','n31','n32','n33',\n",
        "                                             'p11','p12', 'p13','p21','p22','p23','p31','p32','p33',\n",
        "                                             'z1','z2','z3',\n",
        "                                             'y11','y12','y13','y21','y22','y23','y31','y32','y33'], \n",
        "                                            ['y11 - n11', \n",
        "                                             'y11 + n11', \n",
        "                                             'y12 - n12 + n11',\n",
        "                                             'y12 + n12 - n11', \n",
        "                                             'y13 - n13 + n12',\n",
        "                                             'y13 + n13 - n12',\n",
        "                                             'y21 - n21',\n",
        "                                             'y21 + n21',\n",
        "                                             'y22 - n22 + n21',\n",
        "                                             'y22 + n22 - n21',\n",
        "                                             'y23 - n23 + n22',\n",
        "                                             'y23 + n23 - n22',\n",
        "                                             'y31 - n31', \n",
        "                                             'y31 + n31', \n",
        "                                             'y32 - n32 + n31',\n",
        "                                             'y32 + n32 - n31', \n",
        "                                             'y33 - n33 + n32',\n",
        "                                             'y33 + n33 - n32'\n",
        "                                             ])"
      ],
      "metadata": {
        "id": "He6HoFARHiOE"
      },
      "execution_count": 24,
      "outputs": []
    },
    {
      "cell_type": "code",
      "source": [
        "'''\n",
        "\n",
        "variablesType = 8*[ot.OptimizationProblemImplementation.INTEGER]+\\\n",
        "                9*[ot.OptimizationProblemImplementation.CONTINUOUS]+\\\n",
        "                6*[ot.OptimizationProblemImplementation.INTEGER]\n",
        "\n",
        "# Setting up Bonmin problem\n",
        "problem = ot.OptimizationProblem(objectiveFunction)\n",
        "problem.setMinimization(True)\n",
        "problem.setBounds(bounds)\n",
        "problem.setVariablesType(variablesType)\n",
        "problem.setInequalityConstraint(inequality_constraint)\n",
        "\n",
        "problem.setEqualityConstraint(equality_constraint)\n",
        "\n",
        "\n",
        "bonminAlgorithm = ot.Bonmin(problem,'B-BB')\n",
        "bonminAlgorithm.setMaximumEvaluationNumber(10000)\n",
        "bonminAlgorithm.setMaximumIterationNumber(1000)\n",
        "bonminAlgorithm.setStartingPoint([0,0,1,1,0,1,1,1,204,298,298,327.66,327.66,344.681,1441.34,1280.34,1142.32,0,1,0,1,0,0])\n",
        "\n",
        "#ot.ResourceMap.AddAsString('Bonmin-mu_oracle','loqo')\n",
        "#ot.ResourceMap.AddAsScalar('Bonmin-bonmin.time_limit',5)"
      ],
      "metadata": {
        "id": "JxCAiRsr6aCC"
      },
      "execution_count": null,
      "outputs": []
    },
    {
      "cell_type": "code",
      "source": [
        "variablesType = 12*[ot.OptimizationProblemImplementation.INTEGER]+\\\n",
        "                12*[ot.OptimizationProblemImplementation.CONTINUOUS]+\\\n",
        "                9*[ot.OptimizationProblemImplementation.INTEGER]\n",
        "\n",
        "# Setting up Bonmin problem\n",
        "problem = ot.OptimizationProblem(objectiveFunction)\n",
        "problem.setMinimization(True)\n",
        "problem.setBounds(bounds)\n",
        "problem.setVariablesType(variablesType)\n",
        "problem.setInequalityConstraint(inequality_constraint)\n",
        "\n",
        "problem.setEqualityConstraint(equality_constraint)\n",
        "\n",
        "\n",
        "bonminAlgorithm = ot.Bonmin(problem,'B-BB')\n",
        "bonminAlgorithm.setMaximumEvaluationNumber(10000)\n",
        "bonminAlgorithm.setMaximumIterationNumber(1000)\n",
        "bonminAlgorithm.setStartingPoint([0,0,1,1,0,1,1,1,0,0,0,0,\n",
        "                                  204,298,298,327.66,327.66,344.681,1441.34,1280.34,1142.32,0,0,0,\n",
        "                                  0,1,0,1,0,0,0,0,0])\n",
        "\n",
        "#ot.ResourceMap.AddAsString('Bonmin-mu_oracle','loqo')\n",
        "#ot.ResourceMap.AddAsScalar('Bonmin-bonmin.time_limit',5)"
      ],
      "metadata": {
        "id": "bYSqYG3eP2-k"
      },
      "execution_count": 25,
      "outputs": []
    },
    {
      "cell_type": "code",
      "source": [
        "# Running the solver\n",
        "bonminAlgorithm.run()\n",
        "\n",
        "# Retrieving the results\n",
        "result = bonminAlgorithm.getResult()\n",
        "print(\" -- Optimal point = \" + result.getOptimalPoint().__str__())\n",
        "print(\" -- Optimal value = \" + result.getOptimalValue().__str__())\n",
        "print(\" -- Evaluation number = \" + result.getInputSample().getSize().__str__())\n",
        "\n"
      ],
      "metadata": {
        "id": "DF9UNaDMH6Xn",
        "colab": {
          "base_uri": "https://localhost:8080/",
          "height": 356
        },
        "outputId": "caa75963-1962-48e4-ad61-e263bc5c516a"
      },
      "execution_count": 27,
      "outputs": [
        {
          "output_type": "error",
          "ename": "RuntimeError",
          "evalue": "ignored",
          "traceback": [
            "\u001b[0;31m---------------------------------------------------------------------------\u001b[0m",
            "\u001b[0;31mRuntimeError\u001b[0m                              Traceback (most recent call last)",
            "\u001b[0;32m<ipython-input-27-a359b4b920da>\u001b[0m in \u001b[0;36m<cell line: 2>\u001b[0;34m()\u001b[0m\n\u001b[1;32m      1\u001b[0m \u001b[0;31m# Running the solver\u001b[0m\u001b[0;34m\u001b[0m\u001b[0;34m\u001b[0m\u001b[0m\n\u001b[0;32m----> 2\u001b[0;31m \u001b[0mbonminAlgorithm\u001b[0m\u001b[0;34m.\u001b[0m\u001b[0mrun\u001b[0m\u001b[0;34m(\u001b[0m\u001b[0;34m)\u001b[0m\u001b[0;34m\u001b[0m\u001b[0;34m\u001b[0m\u001b[0m\n\u001b[0m\u001b[1;32m      3\u001b[0m \u001b[0;34m\u001b[0m\u001b[0m\n\u001b[1;32m      4\u001b[0m \u001b[0;31m# Retrieving the results\u001b[0m\u001b[0;34m\u001b[0m\u001b[0;34m\u001b[0m\u001b[0m\n\u001b[1;32m      5\u001b[0m \u001b[0mresult\u001b[0m \u001b[0;34m=\u001b[0m \u001b[0mbonminAlgorithm\u001b[0m\u001b[0;34m.\u001b[0m\u001b[0mgetResult\u001b[0m\u001b[0;34m(\u001b[0m\u001b[0;34m)\u001b[0m\u001b[0;34m\u001b[0m\u001b[0;34m\u001b[0m\u001b[0m\n",
            "\u001b[0;32m/usr/local/lib/python3.10/dist-packages/openturns/optim.py\u001b[0m in \u001b[0;36mrun\u001b[0;34m(self)\u001b[0m\n\u001b[1;32m   2961\u001b[0m     \u001b[0;32mdef\u001b[0m \u001b[0mrun\u001b[0m\u001b[0;34m(\u001b[0m\u001b[0mself\u001b[0m\u001b[0;34m)\u001b[0m\u001b[0;34m:\u001b[0m\u001b[0;34m\u001b[0m\u001b[0;34m\u001b[0m\u001b[0m\n\u001b[1;32m   2962\u001b[0m         \u001b[0;34mr\"\"\"Launch the optimization.\"\"\"\u001b[0m\u001b[0;34m\u001b[0m\u001b[0;34m\u001b[0m\u001b[0m\n\u001b[0;32m-> 2963\u001b[0;31m         \u001b[0;32mreturn\u001b[0m \u001b[0m_optim\u001b[0m\u001b[0;34m.\u001b[0m\u001b[0mBonmin_run\u001b[0m\u001b[0;34m(\u001b[0m\u001b[0mself\u001b[0m\u001b[0;34m)\u001b[0m\u001b[0;34m\u001b[0m\u001b[0;34m\u001b[0m\u001b[0m\n\u001b[0m\u001b[1;32m   2964\u001b[0m \u001b[0;34m\u001b[0m\u001b[0m\n\u001b[1;32m   2965\u001b[0m     \u001b[0;32mdef\u001b[0m \u001b[0m__str__\u001b[0m\u001b[0;34m(\u001b[0m\u001b[0mself\u001b[0m\u001b[0;34m,\u001b[0m \u001b[0;34m*\u001b[0m\u001b[0margs\u001b[0m\u001b[0;34m)\u001b[0m\u001b[0;34m:\u001b[0m\u001b[0;34m\u001b[0m\u001b[0;34m\u001b[0m\u001b[0m\n",
            "\u001b[0;31mRuntimeError\u001b[0m: InternalException : Bonmin solver exited with status MINLP_ERROR"
          ]
        }
      ]
    },
    {
      "cell_type": "code",
      "source": [],
      "metadata": {
        "id": "7PeaBK-X8Im7"
      },
      "execution_count": null,
      "outputs": []
    }
  ]
}